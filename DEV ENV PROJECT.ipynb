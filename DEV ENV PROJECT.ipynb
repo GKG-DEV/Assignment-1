{
 "cells": [
  {
   "cell_type": "code",
   "execution_count": 2,
   "id": "9f74fc53-8e57-439c-9b50-74ed57178d5a",
   "metadata": {},
   "outputs": [
    {
     "name": "stdout",
     "output_type": "stream",
     "text": [
      "os.name: posix\n",
      "Platform: Darwin\n",
      "Shell: ZMQInteractiveShell\n",
      "Running in Jupyter Notebook? True\n"
     ]
    }
   ],
   "source": [
    "import os\n",
    "import platform\n",
    "import logging\n",
    "\n",
    "# Setup logger\n",
    "logger = logging.getLogger(__name__)\n",
    "logger.setLevel(logging.DEBUG)\n",
    "\n",
    "def is_notebook() -> bool:\n",
    "    try:\n",
    "        print(f\"os.name: {os.name}\")\n",
    "        print(f\"Platform: {platform.system()}\")\n",
    "        \n",
    "        shell = get_ipython().__class__.__name__\n",
    "        logger.debug(f\"Shell type: {shell}\")\n",
    "        print(f\"Shell: {shell}\")\n",
    "        \n",
    "        if shell == 'ZMQInteractiveShell':\n",
    "            return True   # Jupyter notebook or qtconsole\n",
    "        elif shell == 'TerminalInteractiveShell':\n",
    "            return False  # Terminal running IPython\n",
    "        else:\n",
    "            return False  # Other environments\n",
    "    except NameError:\n",
    "        return False       # Standard Python interpreter (not IPython)\n",
    "\n",
    "# Call the function to check environment\n",
    "print(\"Running in Jupyter Notebook?\" , is_notebook())\n"
   ]
  },
  {
   "cell_type": "code",
   "execution_count": null,
   "id": "78823285-b67c-4dc7-8e97-f0b36845b8ff",
   "metadata": {},
   "outputs": [],
   "source": []
  }
 ],
 "metadata": {
  "kernelspec": {
   "display_name": "Python [conda env:base] *",
   "language": "python",
   "name": "conda-base-py"
  },
  "language_info": {
   "codemirror_mode": {
    "name": "ipython",
    "version": 3
   },
   "file_extension": ".py",
   "mimetype": "text/x-python",
   "name": "python",
   "nbconvert_exporter": "python",
   "pygments_lexer": "ipython3",
   "version": "3.12.7"
  }
 },
 "nbformat": 4,
 "nbformat_minor": 5
}
