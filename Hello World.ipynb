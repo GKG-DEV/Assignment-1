{
 "cells": [
  {
   "cell_type": "markdown",
   "id": "2a24c32e-4752-4ea7-a2e1-ccfb2014c0ae",
   "metadata": {},
   "source": [
    "# Hello World\n"
   ]
  },
  {
   "cell_type": "code",
   "execution_count": 11,
   "id": "aea10040-d75d-4027-ba6a-ea3063c30ec2",
   "metadata": {},
   "outputs": [
    {
     "name": "stdout",
     "output_type": "stream",
     "text": [
      "Hello, World\n"
     ]
    }
   ],
   "source": [
    "print(\"Hello, World\")"
   ]
  },
  {
   "cell_type": "code",
   "execution_count": 14,
   "id": "d4a7502a-f0fd-40c5-8571-a197a9d9d023",
   "metadata": {
    "scrolled": true
   },
   "outputs": [
    {
     "name": "stdout",
     "output_type": "stream",
     "text": [
      "Requirement already satisfied: Flask in /opt/anaconda3/lib/python3.12/site-packages (3.0.3)\n",
      "Requirement already satisfied: Werkzeug>=3.0.0 in /opt/anaconda3/lib/python3.12/site-packages (from Flask) (3.0.3)\n",
      "Requirement already satisfied: Jinja2>=3.1.2 in /opt/anaconda3/lib/python3.12/site-packages (from Flask) (3.1.4)\n",
      "Requirement already satisfied: itsdangerous>=2.1.2 in /opt/anaconda3/lib/python3.12/site-packages (from Flask) (2.2.0)\n",
      "Requirement already satisfied: click>=8.1.3 in /opt/anaconda3/lib/python3.12/site-packages (from Flask) (8.1.7)\n",
      "Requirement already satisfied: blinker>=1.6.2 in /opt/anaconda3/lib/python3.12/site-packages (from Flask) (1.6.2)\n",
      "Requirement already satisfied: MarkupSafe>=2.0 in /opt/anaconda3/lib/python3.12/site-packages (from Jinja2>=3.1.2->Flask) (2.1.3)\n"
     ]
    }
   ],
   "source": [
    "!pip install Flask"
   ]
  },
  {
   "cell_type": "code",
   "execution_count": 17,
   "id": "c54cea68-8dc0-4b83-9478-eb2ed6526af4",
   "metadata": {},
   "outputs": [],
   "source": [
    "from flask import Flask, request, jsonify, render_template\n",
    "import logging\n",
    "\n",
    "app = Flask(__name__)\n",
    "logger = logging.getLogger(__name__)\n",
    "logger.setLevel(logging.INFO)\n",
    "\n",
    "# Setup one route\n",
    "@app.route(\"/\")\n",
    "def hello_world():\n",
    "    logger.debug(\"Enter Hello World\")\n",
    "    return render_template('index.html')\n"
   ]
  },
  {
   "cell_type": "markdown",
   "id": "5430b18d-3c89-4cb8-8805-4cf90c4d3d96",
   "metadata": {},
   "source": [
    "my-flask-project/\n",
    "├── app.py\n",
    "└── templates/\n",
    "    └── index.html\n"
   ]
  },
  {
   "cell_type": "code",
   "execution_count": null,
   "id": "0142010e-67e6-401f-b60d-75277c82ba32",
   "metadata": {},
   "outputs": [],
   "source": []
  }
 ],
 "metadata": {
  "kernelspec": {
   "display_name": "Python [conda env:base] *",
   "language": "python",
   "name": "conda-base-py"
  },
  "language_info": {
   "codemirror_mode": {
    "name": "ipython",
    "version": 3
   },
   "file_extension": ".py",
   "mimetype": "text/x-python",
   "name": "python",
   "nbconvert_exporter": "python",
   "pygments_lexer": "ipython3",
   "version": "3.12.7"
  }
 },
 "nbformat": 4,
 "nbformat_minor": 5
}
